{
 "cells": [
  {
   "attachments": {},
   "cell_type": "markdown",
   "metadata": {},
   "source": [
    "# Load Vocab"
   ]
  },
  {
   "cell_type": "code",
   "execution_count": 116,
   "metadata": {},
   "outputs": [],
   "source": [
    "import pandas as pd\n",
    "import pickle\n",
    "from wordfreq import word_frequency\n",
    "\n",
    "# read wordle vocabulary\n",
    "infile = open('wordle_vocab.txt', 'r')\n",
    "vocab = infile.read()\n",
    "infile.close()\n",
    "\n",
    "# create a list of wordle vocabulary\n",
    "vocab = vocab.split(' ')\n",
    "\n",
    "# calculate the frequency of each word in the english language\n",
    "vocab_freq = [word_frequency(x, 'en') for x in vocab]\n",
    "\n",
    "# create a dataframe from the wordle vocab\n",
    "vocab_df = pd.DataFrame(list(zip(vocab, vocab_freq)), columns=['Word', 'Frequency'])\n",
    "\n",
    "# save vocab_df\n",
    "outfile = open('vocab_df.pickle', 'wb')\n",
    "pickle.dump(vocab_df, outfile)\n",
    "outfile.close()"
   ]
  },
  {
   "cell_type": "code",
   "execution_count": 5,
   "metadata": {},
   "outputs": [
    {
     "data": {
      "text/plain": [
       "[[0, 0, 0, 0, 0],\n",
       " [0, 0, 0, 0, 0],\n",
       " [0, 0, 0, 0, 0],\n",
       " [0, 0, 0, 0, 0],\n",
       " [0, 0, 0, 0, 0],\n",
       " [0, 0, 0, 0, 0]]"
      ]
     },
     "execution_count": 5,
     "metadata": {},
     "output_type": "execute_result"
    }
   ],
   "source": [
    "x = [[0]*5 for i in range(6)]\n",
    "x"
   ]
  },
  {
   "attachments": {},
   "cell_type": "markdown",
   "metadata": {},
   "source": [
    "# Guess Word"
   ]
  },
  {
   "cell_type": "code",
   "execution_count": 125,
   "metadata": {},
   "outputs": [
    {
     "name": "stdout",
     "output_type": "stream",
     "text": [
      "Guess: audio\n",
      "Green: []\n",
      "Yellow: ['a']\n",
      "Grey: ['u', 'd', 'i', 'o']\n",
      "----------------------------------------\n",
      "Guess: after\n",
      "Green: []\n",
      "Yellow: ['a', 'e', 'r']\n",
      "Grey: ['f', 't']\n",
      "----------------------------------------\n",
      "Guess: early\n",
      "Vocab: ['early', 'large', 'clear', 'share', 'break', 'learn', 'range', 'paper', 'agree', 'reach', 'aware', 'cream', 'grace', 'swear', 'anger', 'layer', 'arena', 'brave', 'grave', 'relax', 'spare', 'maker', 'baker', 'pearl', 'scare', 'realm', 'eager', 'amber', 'brake', 'crane', 'relay', 'raven', 'rehab', 'brace', 'grape', 'spear', 'erase', 'repay', 'gamer', 'weary', 'barge', 'crave', 'smear', 'recap', 'racer', 'renal', 'wager', 'carve', 'shear', 'zebra', 'glare', 'craze', 'ramen', 'regal', 'snare', 'payer', 'lager', 'harem', 'rarer', 'graze', 'parse', 'yearn', 'wreak', 'paler', 'caper', 'waver', 'rebar', 'creak', 'blare', 'gayer', 'baler', 'saner', 'rearm', 'gazer', 'parer']\n",
      "Green: []\n",
      "Yellow: ['e', 'a', 'r']\n",
      "Grey: ['l', 'y']\n",
      "----------------------------------------\n",
      "Guess: share\n",
      "Vocab: ['share', 'break', 'range', 'paper', 'agree', 'reach', 'aware', 'cream', 'grace', 'swear', 'anger', 'arena', 'brave', 'grave', 'spare', 'maker', 'baker', 'scare', 'eager', 'amber', 'brake', 'crane', 'raven', 'rehab', 'brace', 'grape', 'spear', 'erase', 'gamer', 'barge', 'crave', 'smear', 'recap', 'racer', 'wager', 'carve', 'shear', 'zebra', 'craze', 'ramen', 'snare', 'harem', 'rarer', 'graze', 'parse', 'wreak', 'caper', 'waver', 'rebar', 'creak', 'saner', 'rearm', 'gazer', 'parer']\n",
      "Green: [('a', 2), ('e', 4)]\n",
      "Yellow: ['r']\n",
      "Grey: ['s', 'h']\n",
      "----------------------------------------\n",
      "Guess: aware\n",
      "Vocab: ['aware', 'grace', 'brave', 'grave', 'brake', 'crane', 'brace', 'grape', 'crave', 'craze', 'graze']\n",
      "Green: [('a', 2), ('e', 4)]\n",
      "Yellow: ['a', 'r']\n",
      "Grey: ['w']\n",
      "----------------------------------------\n",
      "Guess: grace\n",
      "Vocab: ['grace', 'brave', 'grave', 'brake', 'crane', 'brace', 'grape', 'crave', 'craze', 'graze']\n",
      "Green: [('r', 1), ('a', 2), ('e', 4)]\n",
      "Yellow: ['c']\n",
      "Grey: ['g']\n",
      "----------------------------------------\n",
      "Guess: crane\n",
      "Vocab: ['crane', 'brace', 'crave', 'craze']\n",
      "Solved crane after 7 turns\n"
     ]
    }
   ],
   "source": [
    "def filter_vocab(grey, yellow, green, vocab_df):\n",
    "    # filter out words that have grey letters\n",
    "    for i in range(len(grey)):\n",
    "        vocab_df = vocab_df[~vocab_df.Word.str.contains(grey[i])]\n",
    "\n",
    "    # filter out words that do not have yellow letters\n",
    "    for i in range(len(yellow)):\n",
    "        vocab_df = vocab_df[vocab_df.Word.str.contains(yellow[i])]\n",
    "    \n",
    "    # filter out words that do not have a correct index for a green letter\n",
    "    for i in range(len(green)):\n",
    "        c = green[i][0]\n",
    "        index = green[i][1]\n",
    "        if(index == 0):\n",
    "            regex_query = fr'^{c}.*'\n",
    "        else:\n",
    "            regex_query = fr'.{{{index}}}{c}'\n",
    "\n",
    "        vocab_df = vocab_df[vocab_df.Word.str.contains(regex_query, regex=True)]\n",
    "    \n",
    "    return vocab_df\n",
    "\n",
    "def check_answer(guess, answer, vocab_df):\n",
    "    green_chars = []\n",
    "    yellow_chars = []\n",
    "    grey_chars = []\n",
    "\n",
    "    for i in range(len(guess)):\n",
    "        c = guess[i]\n",
    "        if(c == answer[i]):\n",
    "            green_chars.append((c,i))\n",
    "        elif(c in answer):\n",
    "            yellow_chars.append(c)\n",
    "        else:\n",
    "            grey_chars.append(c)\n",
    "\n",
    "    print(f'Green: {green_chars}')\n",
    "    print(f'Yellow: {yellow_chars}')\n",
    "    print(f'Grey: {grey_chars}')\n",
    "    print('----------------------------------------')\n",
    "    vocab_df = filter_vocab(grey_chars, yellow_chars, green_chars, vocab_df)\n",
    "    return vocab_df\n",
    "\n",
    "\n",
    "n = 7\n",
    "\n",
    "# change default answer here\n",
    "answer = 'crane'\n",
    "\n",
    "vocab_df = pickle.load(open('vocab_df.pickle', 'rb'))\n",
    "\n",
    "for i in range(n):\n",
    "    if(i == 0):\n",
    "        guess = 'audio'  \n",
    "    else:\n",
    "        guess = vocab_df.Word.values[0]\n",
    "\n",
    "    print(f'Guess: {guess}')\n",
    "    if(i>1): print(f'Vocab: {list(vocab_df.Word)}')\n",
    "\n",
    "    if(guess == answer):\n",
    "        print(f'Solved {guess} after {i+1} turns')\n",
    "        break\n",
    "\n",
    "    vocab_df = check_answer(guess, answer, vocab_df)\n",
    "    vocab_df = vocab_df.sort_values(by='Frequency', ascending=False)\n"
   ]
  },
  {
   "cell_type": "code",
   "execution_count": 101,
   "metadata": {},
   "outputs": [
    {
     "data": {
      "text/html": [
       "<div>\n",
       "<style scoped>\n",
       "    .dataframe tbody tr th:only-of-type {\n",
       "        vertical-align: middle;\n",
       "    }\n",
       "\n",
       "    .dataframe tbody tr th {\n",
       "        vertical-align: top;\n",
       "    }\n",
       "\n",
       "    .dataframe thead th {\n",
       "        text-align: right;\n",
       "    }\n",
       "</style>\n",
       "<table border=\"1\" class=\"dataframe\">\n",
       "  <thead>\n",
       "    <tr style=\"text-align: right;\">\n",
       "      <th></th>\n",
       "      <th>Word</th>\n",
       "      <th>Frequency</th>\n",
       "    </tr>\n",
       "  </thead>\n",
       "  <tbody>\n",
       "  </tbody>\n",
       "</table>\n",
       "</div>"
      ],
      "text/plain": [
       "Empty DataFrame\n",
       "Columns: [Word, Frequency]\n",
       "Index: []"
      ]
     },
     "execution_count": 101,
     "metadata": {},
     "output_type": "execute_result"
    }
   ],
   "source": [
    "vocab_df.head()"
   ]
  },
  {
   "cell_type": "code",
   "execution_count": 76,
   "metadata": {},
   "outputs": [
    {
     "data": {
      "text/plain": [
       "'ocean'"
      ]
     },
     "execution_count": 76,
     "metadata": {},
     "output_type": "execute_result"
    }
   ],
   "source": [
    "vocab_df.sort_values(by='Frequency', ascending=False).Word.values[0]"
   ]
  },
  {
   "cell_type": "code",
   "execution_count": 72,
   "metadata": {},
   "outputs": [
    {
     "data": {
      "text/html": [
       "<div>\n",
       "<style scoped>\n",
       "    .dataframe tbody tr th:only-of-type {\n",
       "        vertical-align: middle;\n",
       "    }\n",
       "\n",
       "    .dataframe tbody tr th {\n",
       "        vertical-align: top;\n",
       "    }\n",
       "\n",
       "    .dataframe thead th {\n",
       "        text-align: right;\n",
       "    }\n",
       "</style>\n",
       "<table border=\"1\" class=\"dataframe\">\n",
       "  <thead>\n",
       "    <tr style=\"text-align: right;\">\n",
       "      <th></th>\n",
       "      <th>Word</th>\n",
       "      <th>Frequency</th>\n",
       "    </tr>\n",
       "  </thead>\n",
       "  <tbody>\n",
       "    <tr>\n",
       "      <th>1318</th>\n",
       "      <td>oaken</td>\n",
       "      <td>8.710000e-08</td>\n",
       "    </tr>\n",
       "    <tr>\n",
       "      <th>1319</th>\n",
       "      <td>obese</td>\n",
       "      <td>4.790000e-06</td>\n",
       "    </tr>\n",
       "    <tr>\n",
       "      <th>1321</th>\n",
       "      <td>ocean</td>\n",
       "      <td>5.010000e-05</td>\n",
       "    </tr>\n",
       "    <tr>\n",
       "      <th>1329</th>\n",
       "      <td>olden</td>\n",
       "      <td>6.920000e-07</td>\n",
       "    </tr>\n",
       "    <tr>\n",
       "      <th>1331</th>\n",
       "      <td>olive</td>\n",
       "      <td>1.230000e-05</td>\n",
       "    </tr>\n",
       "  </tbody>\n",
       "</table>\n",
       "</div>"
      ],
      "text/plain": [
       "       Word     Frequency\n",
       "1318  oaken  8.710000e-08\n",
       "1319  obese  4.790000e-06\n",
       "1321  ocean  5.010000e-05\n",
       "1329  olden  6.920000e-07\n",
       "1331  olive  1.230000e-05"
      ]
     },
     "execution_count": 72,
     "metadata": {},
     "output_type": "execute_result"
    }
   ],
   "source": [
    "vocab_df.head()"
   ]
  },
  {
   "cell_type": "code",
   "execution_count": 70,
   "metadata": {},
   "outputs": [
    {
     "data": {
      "text/plain": [
       "8        True\n",
       "11       True\n",
       "23       True\n",
       "60      False\n",
       "88      False\n",
       "        ...  \n",
       "2211    False\n",
       "2216    False\n",
       "2272    False\n",
       "2274    False\n",
       "2287    False\n",
       "Name: Word, Length: 91, dtype: bool"
      ]
     },
     "execution_count": 70,
     "metadata": {},
     "output_type": "execute_result"
    }
   ],
   "source": [
    "vocab_df.Word.str.contains('.{1}b', regex=True)"
   ]
  },
  {
   "cell_type": "code",
   "execution_count": null,
   "metadata": {},
   "outputs": [],
   "source": [
    "# the answer has at least one i and one o\n",
    "# the answer has no a, u , or d"
   ]
  },
  {
   "cell_type": "code",
   "execution_count": 25,
   "metadata": {},
   "outputs": [
    {
     "data": {
      "text/html": [
       "<div>\n",
       "<style scoped>\n",
       "    .dataframe tbody tr th:only-of-type {\n",
       "        vertical-align: middle;\n",
       "    }\n",
       "\n",
       "    .dataframe tbody tr th {\n",
       "        vertical-align: top;\n",
       "    }\n",
       "\n",
       "    .dataframe thead th {\n",
       "        text-align: right;\n",
       "    }\n",
       "</style>\n",
       "<table border=\"1\" class=\"dataframe\">\n",
       "  <thead>\n",
       "    <tr style=\"text-align: right;\">\n",
       "      <th></th>\n",
       "      <th>Word</th>\n",
       "      <th>Frequency</th>\n",
       "    </tr>\n",
       "  </thead>\n",
       "  <tbody>\n",
       "    <tr>\n",
       "      <th>168</th>\n",
       "      <td>beech</td>\n",
       "      <td>1.860000e-06</td>\n",
       "    </tr>\n",
       "    <tr>\n",
       "      <th>169</th>\n",
       "      <td>beefy</td>\n",
       "      <td>5.500000e-07</td>\n",
       "    </tr>\n",
       "    <tr>\n",
       "      <th>170</th>\n",
       "      <td>befit</td>\n",
       "      <td>1.170000e-07</td>\n",
       "    </tr>\n",
       "    <tr>\n",
       "      <th>173</th>\n",
       "      <td>beget</td>\n",
       "      <td>2.450000e-07</td>\n",
       "    </tr>\n",
       "    <tr>\n",
       "      <th>174</th>\n",
       "      <td>begin</td>\n",
       "      <td>6.920000e-05</td>\n",
       "    </tr>\n",
       "    <tr>\n",
       "      <th>...</th>\n",
       "      <td>...</td>\n",
       "      <td>...</td>\n",
       "    </tr>\n",
       "    <tr>\n",
       "      <th>2299</th>\n",
       "      <td>wryly</td>\n",
       "      <td>2.570000e-07</td>\n",
       "    </tr>\n",
       "    <tr>\n",
       "      <th>2303</th>\n",
       "      <td>yield</td>\n",
       "      <td>1.450000e-05</td>\n",
       "    </tr>\n",
       "    <tr>\n",
       "      <th>2304</th>\n",
       "      <td>young</td>\n",
       "      <td>2.690000e-04</td>\n",
       "    </tr>\n",
       "    <tr>\n",
       "      <th>2305</th>\n",
       "      <td>youth</td>\n",
       "      <td>5.620000e-05</td>\n",
       "    </tr>\n",
       "    <tr>\n",
       "      <th>2307</th>\n",
       "      <td>zesty</td>\n",
       "      <td>2.570000e-07</td>\n",
       "    </tr>\n",
       "  </tbody>\n",
       "</table>\n",
       "<p>1403 rows × 2 columns</p>\n",
       "</div>"
      ],
      "text/plain": [
       "       Word     Frequency\n",
       "168   beech  1.860000e-06\n",
       "169   beefy  5.500000e-07\n",
       "170   befit  1.170000e-07\n",
       "173   beget  2.450000e-07\n",
       "174   begin  6.920000e-05\n",
       "...     ...           ...\n",
       "2299  wryly  2.570000e-07\n",
       "2303  yield  1.450000e-05\n",
       "2304  young  2.690000e-04\n",
       "2305  youth  5.620000e-05\n",
       "2307  zesty  2.570000e-07\n",
       "\n",
       "[1403 rows x 2 columns]"
      ]
     },
     "execution_count": 25,
     "metadata": {},
     "output_type": "execute_result"
    }
   ],
   "source": [
    "vocab_df[~vocab_df.Word.str.contains('a')]"
   ]
  },
  {
   "cell_type": "code",
   "execution_count": 28,
   "metadata": {},
   "outputs": [
    {
     "data": {
      "text/html": [
       "<div>\n",
       "<style scoped>\n",
       "    .dataframe tbody tr th:only-of-type {\n",
       "        vertical-align: middle;\n",
       "    }\n",
       "\n",
       "    .dataframe tbody tr th {\n",
       "        vertical-align: top;\n",
       "    }\n",
       "\n",
       "    .dataframe thead th {\n",
       "        text-align: right;\n",
       "    }\n",
       "</style>\n",
       "<table border=\"1\" class=\"dataframe\">\n",
       "  <thead>\n",
       "    <tr style=\"text-align: right;\">\n",
       "      <th></th>\n",
       "      <th>Word</th>\n",
       "      <th>Frequency</th>\n",
       "    </tr>\n",
       "  </thead>\n",
       "  <tbody>\n",
       "    <tr>\n",
       "      <th>0</th>\n",
       "      <td>aback</td>\n",
       "      <td>9.770000e-07</td>\n",
       "    </tr>\n",
       "    <tr>\n",
       "      <th>1</th>\n",
       "      <td>abase</td>\n",
       "      <td>3.630000e-08</td>\n",
       "    </tr>\n",
       "    <tr>\n",
       "      <th>2</th>\n",
       "      <td>abate</td>\n",
       "      <td>4.790000e-07</td>\n",
       "    </tr>\n",
       "    <tr>\n",
       "      <th>3</th>\n",
       "      <td>abbey</td>\n",
       "      <td>7.590000e-06</td>\n",
       "    </tr>\n",
       "    <tr>\n",
       "      <th>4</th>\n",
       "      <td>abbot</td>\n",
       "      <td>2.690000e-06</td>\n",
       "    </tr>\n",
       "  </tbody>\n",
       "</table>\n",
       "</div>"
      ],
      "text/plain": [
       "    Word     Frequency\n",
       "0  aback  9.770000e-07\n",
       "1  abase  3.630000e-08\n",
       "2  abate  4.790000e-07\n",
       "3  abbey  7.590000e-06\n",
       "4  abbot  2.690000e-06"
      ]
     },
     "execution_count": 28,
     "metadata": {},
     "output_type": "execute_result"
    }
   ],
   "source": [
    "df = vocab_df.head()\n",
    "df"
   ]
  },
  {
   "cell_type": "code",
   "execution_count": 57,
   "metadata": {},
   "outputs": [
    {
     "data": {
      "text/html": [
       "<div>\n",
       "<style scoped>\n",
       "    .dataframe tbody tr th:only-of-type {\n",
       "        vertical-align: middle;\n",
       "    }\n",
       "\n",
       "    .dataframe tbody tr th {\n",
       "        vertical-align: top;\n",
       "    }\n",
       "\n",
       "    .dataframe thead th {\n",
       "        text-align: right;\n",
       "    }\n",
       "</style>\n",
       "<table border=\"1\" class=\"dataframe\">\n",
       "  <thead>\n",
       "    <tr style=\"text-align: right;\">\n",
       "      <th></th>\n",
       "      <th>Word</th>\n",
       "      <th>Frequency</th>\n",
       "    </tr>\n",
       "  </thead>\n",
       "  <tbody>\n",
       "    <tr>\n",
       "      <th>4</th>\n",
       "      <td>abbot</td>\n",
       "      <td>0.000003</td>\n",
       "    </tr>\n",
       "  </tbody>\n",
       "</table>\n",
       "</div>"
      ],
      "text/plain": [
       "    Word  Frequency\n",
       "4  abbot   0.000003"
      ]
     },
     "execution_count": 57,
     "metadata": {},
     "output_type": "execute_result"
    }
   ],
   "source": [
    "# what has a 't' at index 4\n",
    "index = 4\n",
    "c = 't'\n",
    "df[df.Word.str.contains(fr'.{{{index}}}{c}', regex=True)]"
   ]
  },
  {
   "cell_type": "code",
   "execution_count": null,
   "metadata": {},
   "outputs": [],
   "source": []
  },
  {
   "cell_type": "code",
   "execution_count": 26,
   "metadata": {},
   "outputs": [
    {
     "ename": "AttributeError",
     "evalue": "'str' object has no attribute 'contains'",
     "output_type": "error",
     "traceback": [
      "\u001b[0;31m---------------------------------------------------------------------------\u001b[0m",
      "\u001b[0;31mAttributeError\u001b[0m                            Traceback (most recent call last)",
      "Cell \u001b[0;32mIn[26], line 3\u001b[0m\n\u001b[1;32m      1\u001b[0m word \u001b[39m=\u001b[39m \u001b[39m'\u001b[39m\u001b[39mbeech\u001b[39m\u001b[39m'\u001b[39m\n\u001b[1;32m      2\u001b[0m \u001b[39m# get whether or not the word has a c at index 3\u001b[39;00m\n\u001b[0;32m----> 3\u001b[0m word\u001b[39m.\u001b[39;49mcontains(\u001b[39m'\u001b[39m\u001b[39mc\u001b[39m\u001b[39m'\u001b[39m)\n",
      "\u001b[0;31mAttributeError\u001b[0m: 'str' object has no attribute 'contains'"
     ]
    }
   ],
   "source": [
    "word = 'beech'\n",
    "# get whether or not the word has a c at index 3\n",
    "word.cont"
   ]
  },
  {
   "cell_type": "code",
   "execution_count": null,
   "metadata": {},
   "outputs": [],
   "source": []
  }
 ],
 "metadata": {
  "kernelspec": {
   "display_name": "wordle",
   "language": "python",
   "name": "python3"
  },
  "language_info": {
   "codemirror_mode": {
    "name": "ipython",
    "version": 3
   },
   "file_extension": ".py",
   "mimetype": "text/x-python",
   "name": "python",
   "nbconvert_exporter": "python",
   "pygments_lexer": "ipython3",
   "version": "3.10.10"
  },
  "orig_nbformat": 4,
  "vscode": {
   "interpreter": {
    "hash": "e33f9747ed16d1a873160b0162d4e32b343cc8e02af89eb1a6620d46b2db80a7"
   }
  }
 },
 "nbformat": 4,
 "nbformat_minor": 2
}
